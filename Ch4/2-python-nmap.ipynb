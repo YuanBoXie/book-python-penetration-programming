{
 "cells": [
  {
   "cell_type": "code",
   "execution_count": 2,
   "metadata": {},
   "outputs": [],
   "source": [
    "import nmap\n",
    "\n",
    "nm = nmap.PortScanner()\n",
    "# nm = nmap.PortScannerAsync() # 异步"
   ]
  },
  {
   "cell_type": "code",
   "execution_count": 18,
   "metadata": {},
   "outputs": [
    {
     "data": {
      "text/plain": [
       "{'nmap': {'command_line': 'nmap -oX - -p 1-1000 -sS 202.204.67.15',\n",
       "  'scaninfo': {'tcp': {'method': 'syn', 'services': '1-1000'}},\n",
       "  'scanstats': {'timestr': 'Sun Oct  9 18:05:30 2022',\n",
       "   'elapsed': '1.46',\n",
       "   'uphosts': '1',\n",
       "   'downhosts': '0',\n",
       "   'totalhosts': '1'}},\n",
       " 'scan': {'202.204.67.15': {'hostnames': [{'name': '', 'type': ''}],\n",
       "   'addresses': {'ipv4': '202.204.67.15'},\n",
       "   'vendor': {},\n",
       "   'status': {'state': 'up', 'reason': 'echo-reply'},\n",
       "   'tcp': {7: {'state': 'open',\n",
       "     'reason': 'syn-ack',\n",
       "     'name': 'echo',\n",
       "     'product': '',\n",
       "     'version': '',\n",
       "     'extrainfo': '',\n",
       "     'conf': '3',\n",
       "     'cpe': ''},\n",
       "    22: {'state': 'open',\n",
       "     'reason': 'syn-ack',\n",
       "     'name': 'ssh',\n",
       "     'product': '',\n",
       "     'version': '',\n",
       "     'extrainfo': '',\n",
       "     'conf': '3',\n",
       "     'cpe': ''},\n",
       "    69: {'state': 'open',\n",
       "     'reason': 'syn-ack',\n",
       "     'name': 'tftp',\n",
       "     'product': '',\n",
       "     'version': '',\n",
       "     'extrainfo': '',\n",
       "     'conf': '3',\n",
       "     'cpe': ''},\n",
       "    80: {'state': 'open',\n",
       "     'reason': 'syn-ack',\n",
       "     'name': 'http',\n",
       "     'product': '',\n",
       "     'version': '',\n",
       "     'extrainfo': '',\n",
       "     'conf': '3',\n",
       "     'cpe': ''},\n",
       "    443: {'state': 'open',\n",
       "     'reason': 'syn-ack',\n",
       "     'name': 'https',\n",
       "     'product': '',\n",
       "     'version': '',\n",
       "     'extrainfo': '',\n",
       "     'conf': '3',\n",
       "     'cpe': ''},\n",
       "    801: {'state': 'open',\n",
       "     'reason': 'syn-ack',\n",
       "     'name': 'device',\n",
       "     'product': '',\n",
       "     'version': '',\n",
       "     'extrainfo': '',\n",
       "     'conf': '3',\n",
       "     'cpe': ''},\n",
       "    869: {'state': 'open',\n",
       "     'reason': 'syn-ack',\n",
       "     'name': 'unknown',\n",
       "     'product': '',\n",
       "     'version': '',\n",
       "     'extrainfo': '',\n",
       "     'conf': '3',\n",
       "     'cpe': ''},\n",
       "    870: {'state': 'open',\n",
       "     'reason': 'syn-ack',\n",
       "     'name': 'unknown',\n",
       "     'product': '',\n",
       "     'version': '',\n",
       "     'extrainfo': '',\n",
       "     'conf': '3',\n",
       "     'cpe': ''},\n",
       "    871: {'state': 'open',\n",
       "     'reason': 'syn-ack',\n",
       "     'name': 'supfilesrv',\n",
       "     'product': '',\n",
       "     'version': '',\n",
       "     'extrainfo': '',\n",
       "     'conf': '3',\n",
       "     'cpe': ''},\n",
       "    872: {'state': 'open',\n",
       "     'reason': 'syn-ack',\n",
       "     'name': 'unknown',\n",
       "     'product': '',\n",
       "     'version': '',\n",
       "     'extrainfo': '',\n",
       "     'conf': '3',\n",
       "     'cpe': ''},\n",
       "    901: {'state': 'open',\n",
       "     'reason': 'syn-ack',\n",
       "     'name': 'samba-swat',\n",
       "     'product': '',\n",
       "     'version': '',\n",
       "     'extrainfo': '',\n",
       "     'conf': '3',\n",
       "     'cpe': ''}}}}}"
      ]
     },
     "execution_count": 18,
     "metadata": {},
     "output_type": "execute_result"
    }
   ],
   "source": [
    "nm.scan('202.204.67.15','1-1000','-sS')"
   ]
  },
  {
   "cell_type": "code",
   "execution_count": 19,
   "metadata": {},
   "outputs": [
    {
     "data": {
      "text/plain": [
       "['202.204.67.15']"
      ]
     },
     "execution_count": 19,
     "metadata": {},
     "output_type": "execute_result"
    }
   ],
   "source": [
    "nm.all_hosts() # 返回被扫描的主机列表"
   ]
  },
  {
   "cell_type": "code",
   "execution_count": 20,
   "metadata": {},
   "outputs": [
    {
     "data": {
      "text/plain": [
       "'nmap -oX - -p 1-1000 -sS 202.204.67.15'"
      ]
     },
     "execution_count": 20,
     "metadata": {},
     "output_type": "execute_result"
    }
   ],
   "source": [
    "nm.command_line()"
   ]
  },
  {
   "cell_type": "code",
   "execution_count": 21,
   "metadata": {},
   "outputs": [
    {
     "data": {
      "text/plain": [
       "'host;hostname;hostname_type;protocol;port;name;state;product;extrainfo;reason;version;conf;cpe\\r\\n202.204.67.15;;;tcp;7;echo;open;;;syn-ack;;3;\\r\\n202.204.67.15;;;tcp;22;ssh;open;;;syn-ack;;3;\\r\\n202.204.67.15;;;tcp;69;tftp;open;;;syn-ack;;3;\\r\\n202.204.67.15;;;tcp;80;http;open;;;syn-ack;;3;\\r\\n202.204.67.15;;;tcp;443;https;open;;;syn-ack;;3;\\r\\n202.204.67.15;;;tcp;801;device;open;;;syn-ack;;3;\\r\\n202.204.67.15;;;tcp;869;unknown;open;;;syn-ack;;3;\\r\\n202.204.67.15;;;tcp;870;unknown;open;;;syn-ack;;3;\\r\\n202.204.67.15;;;tcp;871;supfilesrv;open;;;syn-ack;;3;\\r\\n202.204.67.15;;;tcp;872;unknown;open;;;syn-ack;;3;\\r\\n202.204.67.15;;;tcp;901;samba-swat;open;;;syn-ack;;3;\\r\\n'"
      ]
     },
     "execution_count": 21,
     "metadata": {},
     "output_type": "execute_result"
    }
   ],
   "source": [
    "nm.csv()"
   ]
  },
  {
   "cell_type": "code",
   "execution_count": 22,
   "metadata": {},
   "outputs": [
    {
     "name": "stdout",
     "output_type": "stream",
     "text": [
      "host;hostname;hostname_type;protocol;port;name;state;product;extrainfo;reason;version;conf;cpe\n",
      "202.204.67.15;;;tcp;7;echo;open;;;syn-ack;;3;\n",
      "202.204.67.15;;;tcp;22;ssh;open;;;syn-ack;;3;\n",
      "202.204.67.15;;;tcp;69;tftp;open;;;syn-ack;;3;\n",
      "202.204.67.15;;;tcp;80;http;open;;;syn-ack;;3;\n",
      "202.204.67.15;;;tcp;443;https;open;;;syn-ack;;3;\n",
      "202.204.67.15;;;tcp;801;device;open;;;syn-ack;;3;\n",
      "202.204.67.15;;;tcp;869;unknown;open;;;syn-ack;;3;\n",
      "202.204.67.15;;;tcp;870;unknown;open;;;syn-ack;;3;\n",
      "202.204.67.15;;;tcp;871;supfilesrv;open;;;syn-ack;;3;\n",
      "202.204.67.15;;;tcp;872;unknown;open;;;syn-ack;;3;\n",
      "202.204.67.15;;;tcp;901;samba-swat;open;;;syn-ack;;3;\n",
      "\n"
     ]
    }
   ],
   "source": [
    "print(nm.csv())"
   ]
  },
  {
   "cell_type": "code",
   "execution_count": 23,
   "metadata": {},
   "outputs": [
    {
     "data": {
      "text/plain": [
       "True"
      ]
     },
     "execution_count": 23,
     "metadata": {},
     "output_type": "execute_result"
    }
   ],
   "source": [
    "nm.has_host('202.204.67.15')"
   ]
  },
  {
   "cell_type": "code",
   "execution_count": 24,
   "metadata": {},
   "outputs": [
    {
     "data": {
      "text/plain": [
       "{'tcp': {'method': 'syn', 'services': '1-1000'}}"
      ]
     },
     "execution_count": 24,
     "metadata": {},
     "output_type": "execute_result"
    }
   ],
   "source": [
    "nm.scaninfo()"
   ]
  },
  {
   "cell_type": "code",
   "execution_count": 25,
   "metadata": {},
   "outputs": [
    {
     "data": {
      "text/plain": [
       "''"
      ]
     },
     "execution_count": 25,
     "metadata": {},
     "output_type": "execute_result"
    }
   ],
   "source": [
    "nm['202.204.67.15'].hostname()"
   ]
  },
  {
   "cell_type": "code",
   "execution_count": 26,
   "metadata": {},
   "outputs": [
    {
     "data": {
      "text/plain": [
       "'up'"
      ]
     },
     "execution_count": 26,
     "metadata": {},
     "output_type": "execute_result"
    }
   ],
   "source": [
    "nm['202.204.67.15'].state()"
   ]
  },
  {
   "cell_type": "code",
   "execution_count": 27,
   "metadata": {},
   "outputs": [
    {
     "data": {
      "text/plain": [
       "['tcp']"
      ]
     },
     "execution_count": 27,
     "metadata": {},
     "output_type": "execute_result"
    }
   ],
   "source": [
    "nm['202.204.67.15'].all_protocols()"
   ]
  },
  {
   "cell_type": "code",
   "execution_count": 16,
   "metadata": {},
   "outputs": [
    {
     "data": {
      "text/plain": [
       "[]"
      ]
     },
     "execution_count": 16,
     "metadata": {},
     "output_type": "execute_result"
    }
   ],
   "source": [
    "#nm['10.116.216.92']['tcp'].keys()\n",
    "nm['10.116.216.92'].all_tcp()"
   ]
  },
  {
   "cell_type": "code",
   "execution_count": 28,
   "metadata": {},
   "outputs": [
    {
     "data": {
      "text/plain": [
       "[]"
      ]
     },
     "execution_count": 28,
     "metadata": {},
     "output_type": "execute_result"
    }
   ],
   "source": [
    "nm['202.204.67.15'].all_udp()"
   ]
  },
  {
   "cell_type": "code",
   "execution_count": 29,
   "metadata": {},
   "outputs": [
    {
     "data": {
      "text/plain": [
       "{'state': 'open',\n",
       " 'reason': 'syn-ack',\n",
       " 'name': 'ssh',\n",
       " 'product': '',\n",
       " 'version': '',\n",
       " 'extrainfo': '',\n",
       " 'conf': '3',\n",
       " 'cpe': ''}"
      ]
     },
     "execution_count": 29,
     "metadata": {},
     "output_type": "execute_result"
    }
   ],
   "source": [
    "nm['202.204.67.15'].tcp(22)"
   ]
  },
  {
   "cell_type": "code",
   "execution_count": 30,
   "metadata": {},
   "outputs": [
    {
     "data": {
      "text/plain": [
       "'open'"
      ]
     },
     "execution_count": 30,
     "metadata": {},
     "output_type": "execute_result"
    }
   ],
   "source": [
    "nm['202.204.67.15'].tcp(22)['state']"
   ]
  }
 ],
 "metadata": {
  "kernelspec": {
   "display_name": "Python 3.8.3 ('base')",
   "language": "python",
   "name": "python3"
  },
  "language_info": {
   "codemirror_mode": {
    "name": "ipython",
    "version": 3
   },
   "file_extension": ".py",
   "mimetype": "text/x-python",
   "name": "python",
   "nbconvert_exporter": "python",
   "pygments_lexer": "ipython3",
   "version": "3.8.3"
  },
  "orig_nbformat": 4,
  "vscode": {
   "interpreter": {
    "hash": "ad2bdc8ecc057115af97d19610ffacc2b4e99fae6737bb82f5d7fb13d2f2c186"
   }
  }
 },
 "nbformat": 4,
 "nbformat_minor": 2
}
